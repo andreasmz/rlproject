{
 "cells": [
  {
   "cell_type": "markdown",
   "id": "2afe7a4f",
   "metadata": {},
   "source": [
    "# DQN Learning with full episodes\n",
    "Created 2025-07-14\n",
    "\n",
    "Idea: Instead of training with batches in a replay buffer, use the stored data in each episode/game"
   ]
  }
 ],
 "metadata": {
  "kernelspec": {
   "display_name": "rlproject",
   "language": "python",
   "name": "python3"
  },
  "language_info": {
   "name": "python",
   "version": "3.13.5"
  }
 },
 "nbformat": 4,
 "nbformat_minor": 5
}
