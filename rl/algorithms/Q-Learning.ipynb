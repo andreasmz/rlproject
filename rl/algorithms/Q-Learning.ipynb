{
 "cells": [
  {
   "cell_type": "markdown",
   "id": "0fff53a0",
   "metadata": {},
   "source": [
    "# Q-Learning - First steps\n",
    "\n",
    "First steps to implement a DQN agent"
   ]
  },
  {
   "cell_type": "code",
   "execution_count": 1,
   "id": "78da0624",
   "metadata": {},
   "outputs": [],
   "source": [
    "import numpy as np\n",
    "import sys\n",
    "from pathlib import Path\n",
    "import matplotlib.pyplot as plt\n",
    "from matplotlib.ticker import FuncFormatter, MaxNLocator\n",
    "import ipywidgets as widgets\n",
    "from ipyevents import Event\n",
    "import time\n",
    "import gymnasium as gym\n",
    "import torch"
   ]
  },
  {
   "cell_type": "code",
   "execution_count": 2,
   "id": "d4515b09",
   "metadata": {},
   "outputs": [],
   "source": [
    "sys.path.insert(1, str(Path(\"../..\")))\n",
    "import andreas2048\n",
    "from andreas2048.game import *\n",
    "from andreas2048 import gym2048\n",
    "#env = gym.make(\"andreas_2048\")\n",
    "env = gym2048.Env2048()"
   ]
  },
  {
   "cell_type": "code",
   "execution_count": 3,
   "id": "8c0503e2",
   "metadata": {},
   "outputs": [
    {
     "ename": "RuntimeError",
     "evalue": "STOP",
     "output_type": "error",
     "traceback": [
      "\u001b[31m---------------------------------------------------------------------------\u001b[39m",
      "\u001b[31mRuntimeError\u001b[39m                              Traceback (most recent call last)",
      "\u001b[36mCell\u001b[39m\u001b[36m \u001b[39m\u001b[32mIn[3]\u001b[39m\u001b[32m, line 1\u001b[39m\n\u001b[32m----> \u001b[39m\u001b[32m1\u001b[39m \u001b[38;5;28;01mraise\u001b[39;00m \u001b[38;5;167;01mRuntimeError\u001b[39;00m(\u001b[33m\"\u001b[39m\u001b[33mSTOP\u001b[39m\u001b[33m\"\u001b[39m)\n",
      "\u001b[31mRuntimeError\u001b[39m: STOP"
     ]
    }
   ],
   "source": [
    "raise RuntimeError(\"STOP\")"
   ]
  },
  {
   "cell_type": "code",
   "execution_count": null,
   "id": "f9d4efd4",
   "metadata": {},
   "outputs": [],
   "source": [
    "for episode in range(100):\n",
    "    obs, info = env.reset()\n",
    "    done = False\n",
    "\n",
    "    while not done:\n",
    "        env.step()"
   ]
  }
 ],
 "metadata": {
  "kernelspec": {
   "display_name": "rlproject",
   "language": "python",
   "name": "python3"
  },
  "language_info": {
   "codemirror_mode": {
    "name": "ipython",
    "version": 3
   },
   "file_extension": ".py",
   "mimetype": "text/x-python",
   "name": "python",
   "nbconvert_exporter": "python",
   "pygments_lexer": "ipython3",
   "version": "3.13.5"
  }
 },
 "nbformat": 4,
 "nbformat_minor": 5
}
